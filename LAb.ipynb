{
 "cells": [
  {
   "cell_type": "markdown",
   "metadata": {},
   "source": [
    "# 1. WAP that displays \"Hello to python programming\"."
   ]
  },
  {
   "cell_type": "code",
   "execution_count": 3,
   "metadata": {},
   "outputs": [
    {
     "name": "stdout",
     "output_type": "stream",
     "text": [
      "Hello to python programming\n"
     ]
    }
   ],
   "source": [
    "print(\"Hello to python programming\")"
   ]
  },
  {
   "cell_type": "markdown",
   "metadata": {},
   "source": [
    "# 2. WAP to read two integers & performs arithmetic operations on them(add)."
   ]
  },
  {
   "cell_type": "code",
   "execution_count": 4,
   "metadata": {},
   "outputs": [
    {
     "name": "stdout",
     "output_type": "stream",
     "text": [
      "Sum of 3 and 5 is 8\n",
      "Subtraction of 3 and 5 is -2\n",
      "Multiplication of 3 and 5 is 15\n",
      "Division of 3 and 5 is 0.6\n"
     ]
    }
   ],
   "source": [
    "#Read first int\n",
    "num1=int(input(\"Enter first number: \"))\n",
    "#read second int\n",
    "num2=int(input(\"Enter second number: \"))\n",
    "#add two numbers\n",
    "sum_result=num1+num2\n",
    "#subtract two numbers\n",
    "sub_result=num1-num2\n",
    "#multiply two numbers\n",
    "mul_result=num1*num2\n",
    "#divide two numbers\n",
    "div_result=num1/num2\n",
    "#display results\n",
    "print(\"Sum of {0} and {1} is {2}\".format(num1,num2,sum_result))\n",
    "print(\"Subtraction of {0} and {1} is {2}\".format(num1,num2,sub_result))\n",
    "print(\"Multiplication of {0} and {1} is {2}\".format(num1,num2,mul_result))\n",
    "print(\"Division of {0} and {1} is {2}\".format(num1,num2,div_result))\n"
   ]
  },
  {
   "cell_type": "code",
   "execution_count": 9,
   "metadata": {},
   "outputs": [
    {
     "name": "stdout",
     "output_type": "stream",
     "text": [
      "The result of division is:  0.6\n"
     ]
    }
   ],
   "source": [
    "if num2 != 0:\n",
    "    division_result = num1 / num2\n",
    "    print(\"The result of division is: \", division_result)\n",
    "else:\n",
    "    print(\"Division by zero is not possible\")"
   ]
  },
  {
   "cell_type": "code",
   "execution_count": null,
   "metadata": {},
   "outputs": [],
   "source": [
    "# Clear screen\n",
    "import os\n",
    "os.System(\"cls\")"
   ]
  },
  {
   "cell_type": "markdown",
   "metadata": {},
   "source": [
    "# 3. WAP to read the marks of three subjects and find the average of them."
   ]
  },
  {
   "cell_type": "code",
   "execution_count": 10,
   "metadata": {},
   "outputs": [
    {
     "name": "stdout",
     "output_type": "stream",
     "text": [
      "The average marks are 7.0\n"
     ]
    }
   ],
   "source": [
    "Mark1 = float(input(\"Enter the marks of the first subject: \"))\n",
    "Mark2 = float(input(\"Enter the marks of the second subject: \"))\n",
    "Mark3 = float(input(\"Enter the marks of the third subject: \"))\n",
    "# Calculating the average\n",
    "avg = (Mark1 + Mark2 + Mark3) / 3\n",
    "# Printing the average\n",
    "print(\"The average marks are\", avg)\n"
   ]
  },
  {
   "cell_type": "markdown",
   "metadata": {},
   "source": [
    "# 4. Surface area of a prism can be calculated if the lengths of the three sides are known. Write a program that takes the sides as input (read it as integer) and prints the surface area of the prism (Surface Area = 2ab + 2bc + 2ca)"
   ]
  },
  {
   "cell_type": "code",
   "execution_count": 11,
   "metadata": {},
   "outputs": [
    {
     "name": "stdout",
     "output_type": "stream",
     "text": [
      "Surface area of prism is :  3100\n"
     ]
    }
   ],
   "source": [
    "a = int(input(\"Enter the height of prism : \"))\n",
    "b = int(input(\"Enter the width of prism : \"))\n",
    "c = int(input(\"Enter the length of prism : \"))\n",
    "surface_area = 2*a*b + 2*b*c + 2*c*a\n",
    "print(\"Surface area of prism is : \",surface_area)"
   ]
  },
  {
   "cell_type": "markdown",
   "metadata": {},
   "source": [
    "# 5. A plane travels 395,000 meters in 9000 seconds. Write a program to find the speed of the plane ( Speed = Distance / Time )."
   ]
  },
  {
   "cell_type": "code",
   "execution_count": 12,
   "metadata": {},
   "outputs": [
    {
     "name": "stdout",
     "output_type": "stream",
     "text": [
      "1.6666666666666667 m/s\n"
     ]
    }
   ],
   "source": [
    "distance = eval(input(\"Enter the distance traveled : \"))\n",
    "time = eval(input(\"Enter the time taken : \"))\n",
    "speed = distance / time\n",
    "print(speed,\"m/s\")"
   ]
  },
  {
   "cell_type": "markdown",
   "metadata": {},
   "source": [
    "# 6. You need to empty out the rectangular swimming pool which is 12 meters long, 7 meters wide and 2 meter depth. You have a pump which can move 17 cubic meters of water in an hour. Write a program to find how long it will take to empty your pool? (Volume = l * w * h, and flow = volume/time)."
   ]
  },
  {
   "cell_type": "code",
   "execution_count": 20,
   "metadata": {},
   "outputs": [
    {
     "name": "stdout",
     "output_type": "stream",
     "text": [
      "time taken to empty your poll: 9.882352941176471 sec\n"
     ]
    }
   ],
   "source": [
    "length = 12\n",
    "width = 7\n",
    "depth = 2\n",
    "#volume of the pool\n",
    "volume = length * width * depth\n",
    "time = volume / 17 #(pump rate)\n",
    "print (\"time taken to empty your poll:\",time,\"sec\")\n"
   ]
  },
  {
   "cell_type": "markdown",
   "metadata": {},
   "source": [
    "# 7. Write a program to convert temperature from centigrade ( read it as float value ) to Fahrenheit."
   ]
  },
  {
   "cell_type": "code",
   "execution_count": 1,
   "metadata": {},
   "outputs": [
    {
     "name": "stdout",
     "output_type": "stream",
     "text": [
      "The tempeature in Fahrenheit: 392.0\n"
     ]
    }
   ],
   "source": [
    "c = float(input(\"Enter temperature in Celsius: \"))\n",
    "f = (c * 9)/5 + 32\n",
    "print(\"The tempeature in Fahrenheit:\",round(f,2))\n"
   ]
  },
  {
   "cell_type": "markdown",
   "metadata": {},
   "source": [
    "# 8. A car starts from a stoplight and is travelling with a velocity of 10m/sec east in 20 seconds. Write a program to find the acceleration of the car. [ acc = (Vfinal – Vinitial) / Time].\n"
   ]
  },
  {
   "cell_type": "code",
   "execution_count": 2,
   "metadata": {},
   "outputs": [
    {
     "name": "stdout",
     "output_type": "stream",
     "text": [
      "0.5\n"
     ]
    }
   ],
   "source": [
    "initial_velocity = 0\n",
    "final_velocity = 10\n",
    "time = 20\n",
    "acceleration = (10-0)/20\n",
    "print(acceleration)\n"
   ]
  },
  {
   "cell_type": "markdown",
   "metadata": {},
   "source": [
    "# 9.  Write a Program to Prompt for a Score between 0.0 and 1.0. If the Score is out of Range, Print and Error. If the score is between 0.0 and 1.0, Print a Grade Using the Following Table:\n",
    "Score Grade\n",
    ">=0.9 A\n",
    ">=0.8 B\n",
    ">=0.7 C\n",
    ">=0.6 D\n",
    "<=0.6 F"
   ]
  },
  {
   "cell_type": "code",
   "execution_count": 5,
   "metadata": {},
   "outputs": [
    {
     "name": "stdout",
     "output_type": "stream",
     "text": [
      "D\n"
     ]
    }
   ],
   "source": [
    "score = float(input(\"Enter Score between 0.0 and 1.0: \"))\n",
    "if(score >= 0.9 and score < 1.0 and score > 0.0):\n",
    " print(\"A\")\n",
    "elif(score >= 0.8 and score < 1.0 and score > 0.0):\n",
    " print(\"B\")\n",
    "elif(score >= 0.7 and score < 1.0 and score > 0.0):\n",
    " print(\"C\")\n",
    "elif(score >= 0.6 and score < 1.0 and score > 0.0):\n",
    " print(\"D\")\n",
    "elif(score <= 0.6 and score < 1.0 and score > 0.0):\n",
    " print(\"F\")\n",
    "elif(score < 0.0 or score > 1.0):\n",
    " print(\"Score is out of range\")"
   ]
  },
  {
   "cell_type": "markdown",
   "metadata": {},
   "source": [
    "# 10. Write a Program to find the maximum of three numbers"
   ]
  },
  {
   "cell_type": "code",
   "execution_count": 7,
   "metadata": {},
   "outputs": [
    {
     "name": "stdout",
     "output_type": "stream",
     "text": [
      "The largest number is:  8\n"
     ]
    }
   ],
   "source": [
    "def maximum(a, b, c):\n",
    " if (a >= b) and (a >= c):\n",
    "  largest = a\n",
    " elif (b >= a) and (b >= c):\n",
    "  largest = b\n",
    " else:\n",
    "  largest = c\n",
    " return largest\n",
    "a = int(input(\"Enter first number: \"))\n",
    "b = int(input(\"Enter second number: \"))\n",
    "c = int(input(\"Enter third number: \"))\n",
    "print(\"The largest number is: \",maximum(a, b, c))\n"
   ]
  }
 ],
 "metadata": {
  "kernelspec": {
   "display_name": "Python 3",
   "language": "python",
   "name": "python3"
  },
  "language_info": {
   "codemirror_mode": {
    "name": "ipython",
    "version": 3
   },
   "file_extension": ".py",
   "mimetype": "text/x-python",
   "name": "python",
   "nbconvert_exporter": "python",
   "pygments_lexer": "ipython3",
   "version": "3.11.4"
  },
  "orig_nbformat": 4
 },
 "nbformat": 4,
 "nbformat_minor": 2
}
